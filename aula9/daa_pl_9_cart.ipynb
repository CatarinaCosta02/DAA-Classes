{
 "cells": [
  {
   "cell_type": "markdown",
   "id": "09707bc8",
   "metadata": {},
   "source": [
    "### Setting up the OpenAI Gym's environment"
   ]
  },
  {
   "cell_type": "code",
   "execution_count": null,
   "id": "c1ad5282",
   "metadata": {
    "tags": []
   },
   "outputs": [],
   "source": [
    "#!pip install gymnasium\n",
    "#!pip install pyglet\n",
    "#!pip install pygame"
   ]
  },
  {
   "cell_type": "markdown",
   "id": "07e7183c",
   "metadata": {},
   "source": [
    "## [**Cart Pole**](https://www.gymlibrary.dev/environments/classic_control/cart_pole/)\n",
    "\n",
    "![CartPole-v1](https://miro.medium.com/max/1188/1*LVoKXR7aX7Y8npUSsYZdKg.png \"CartPole-v1\")\n",
    "\n",
    "| | |\n",
    "| :-: | :-: |\n",
    "| Action Space | Discrete(2) |\n",
    "| Observation Shape | (4,) |\n",
    "| Observation High | \\[4.8 inf 0.42 inf\\] |\n",
    "| Observation Low | \\[-4.8 -inf -0.42 -inf\\] |\n",
    "| Import |`gym.make(\"CartPole-v1\")` |\n",
    "\n",
    "**Description**\n",
    "This environment corresponds to the version of the cart-pole problem described by Barto, Sutton, and Anderson in [“Neuronlike Adaptive Elements That Can Solve Difficult Learning Control Problem”](https://ieeexplore.ieee.org/document/6313077). A pole is attached by an un-actuated joint to a cart, which moves along a frictionless track. The pendulum is placed upright on the cart and the goal is to balance the pole by applying forces in the left and right direction on the cart.\n",
    "\n",
    "**Action Space**\n",
    "\n",
    "The action is a `ndarray` with shape `(1,)` which can take values `{0, 1}` indicating the direction of the fixed force the cart is pushed with.\n",
    "\n",
    "| Num | Action |\n",
    "| :-: | :-: |\n",
    "| 0 | Push cart to the left |\n",
    "| 1 | Push cart to the right |\n",
    "    \n",
    "**Note**: The velocity that is reduced or increased by the applied force is not fixed and it depends on the angle the pole is pointing. The center of gravity of the pole varies the amount of energy needed to move the cart underneath it\n",
    "\n",
    "**Observations Space**\n",
    "\n",
    "The observation is a `ndarray` with shape `(4,)` with the values corresponding to the following positions and velocities:\n",
    "\n",
    "| Num | Observation | Min | Max |\n",
    "| :-: | :-: | :-: | :-: |\n",
    "| 0 | Cart Position | -4.8 | 4.8 |\n",
    "| 1 | Cart Velocity | -Inf | Inf |\n",
    "| 2 | Pole Angle | ~-0.418 rad (-24º) | ~0.418 rad (24º) |\n",
    "| 3 | Pole Angular Velocity | -Inf | Inf |\n",
    "    \n",
    "**Note**: While the ranges above denote the possible values for observation space of each element, it is not reflective of the allowed values of the state space in an unterminated episode. Particularly:\n",
    "\n",
    "- The cart x-position (index 0) can be take values between `(-4.8, 4.8)`, but the episode terminates if the cart leaves the `(-2.4, 2.4)` range.\n",
    "\n",
    "- The pole angle can be observed between `(-.418, .418)` radians (or **±24°**), but the episode terminates if the pole angle is not in the range `(-.2095, .2095`) (or **±12°**)\n",
    "\n",
    "**Rewards**\n",
    "    \n",
    "Since the goal is to keep the pole upright for as long as possible, a reward of `+1` for every step taken, including the termination step, is allotted. The threshold for rewards is 475 for v1.\n",
    "\n",
    "**Starting State**\n",
    "    \n",
    "All observations are assigned a uniformly random value in `(-0.05, 0.05)`\n",
    "\n",
    "**Episode End**\n",
    "    \n",
    "The episode ends if any one of the following occurs:\n",
    "\n",
    "1. Termination: Pole Angle is greater than ±12°\n",
    "\n",
    "2. Termination: Cart Position is greater than ±2.4 (center of the cart reaches the edge of the display)\n",
    "\n",
    "3. Truncation: Episode length is greater than 500 (200 for v0)"
   ]
  },
  {
   "cell_type": "code",
   "execution_count": 3,
   "id": "6953db35-8883-4f94-a691-9bed338e3fe2",
   "metadata": {
    "tags": []
   },
   "outputs": [
    {
     "ename": "DependencyNotInstalled",
     "evalue": "pygame is not installed, run `pip install gymnasium[classic-control]`",
     "output_type": "error",
     "traceback": [
      "\u001b[0;31m---------------------------------------------------------------------------\u001b[0m",
      "\u001b[0;31mModuleNotFoundError\u001b[0m                       Traceback (most recent call last)",
      "File \u001b[0;32m~/miniconda3/envs/my-env/lib/python3.11/site-packages/gymnasium/envs/classic_control/cartpole.py:223\u001b[0m, in \u001b[0;36mCartPoleEnv.render\u001b[0;34m(self)\u001b[0m\n\u001b[1;32m    222\u001b[0m \u001b[38;5;28;01mtry\u001b[39;00m:\n\u001b[0;32m--> 223\u001b[0m     \u001b[38;5;28;01mimport\u001b[39;00m \u001b[38;5;21;01mpygame\u001b[39;00m\n\u001b[1;32m    224\u001b[0m     \u001b[38;5;28;01mfrom\u001b[39;00m \u001b[38;5;21;01mpygame\u001b[39;00m \u001b[38;5;28;01mimport\u001b[39;00m gfxdraw\n",
      "\u001b[0;31mModuleNotFoundError\u001b[0m: No module named 'pygame'",
      "\nThe above exception was the direct cause of the following exception:\n",
      "\u001b[0;31mDependencyNotInstalled\u001b[0m                    Traceback (most recent call last)",
      "Cell \u001b[0;32mIn[3], line 3\u001b[0m\n\u001b[1;32m      1\u001b[0m \u001b[38;5;28;01mimport\u001b[39;00m \u001b[38;5;21;01mgymnasium\u001b[39;00m \u001b[38;5;28;01mas\u001b[39;00m \u001b[38;5;21;01mgym\u001b[39;00m\n\u001b[1;32m      2\u001b[0m env \u001b[38;5;241m=\u001b[39m gym\u001b[38;5;241m.\u001b[39mmake(\u001b[38;5;124m\"\u001b[39m\u001b[38;5;124mCartPole-v1\u001b[39m\u001b[38;5;124m\"\u001b[39m, render_mode \u001b[38;5;241m=\u001b[39m \u001b[38;5;124m\"\u001b[39m\u001b[38;5;124mhuman\u001b[39m\u001b[38;5;124m\"\u001b[39m)\n\u001b[0;32m----> 3\u001b[0m env\u001b[38;5;241m.\u001b[39mreset()\n\u001b[1;32m      4\u001b[0m \u001b[38;5;28;01mfor\u001b[39;00m _ \u001b[38;5;129;01min\u001b[39;00m \u001b[38;5;28mrange\u001b[39m(\u001b[38;5;241m200\u001b[39m):\n\u001b[1;32m      5\u001b[0m     env\u001b[38;5;241m.\u001b[39mrender()\n",
      "File \u001b[0;32m~/miniconda3/envs/my-env/lib/python3.11/site-packages/gymnasium/wrappers/time_limit.py:75\u001b[0m, in \u001b[0;36mTimeLimit.reset\u001b[0;34m(self, **kwargs)\u001b[0m\n\u001b[1;32m     66\u001b[0m \u001b[38;5;250m\u001b[39m\u001b[38;5;124;03m\"\"\"Resets the environment with :param:`**kwargs` and sets the number of steps elapsed to zero.\u001b[39;00m\n\u001b[1;32m     67\u001b[0m \n\u001b[1;32m     68\u001b[0m \u001b[38;5;124;03mArgs:\u001b[39;00m\n\u001b[0;32m   (...)\u001b[0m\n\u001b[1;32m     72\u001b[0m \u001b[38;5;124;03m    The reset environment\u001b[39;00m\n\u001b[1;32m     73\u001b[0m \u001b[38;5;124;03m\"\"\"\u001b[39;00m\n\u001b[1;32m     74\u001b[0m \u001b[38;5;28mself\u001b[39m\u001b[38;5;241m.\u001b[39m_elapsed_steps \u001b[38;5;241m=\u001b[39m \u001b[38;5;241m0\u001b[39m\n\u001b[0;32m---> 75\u001b[0m \u001b[38;5;28;01mreturn\u001b[39;00m \u001b[38;5;28mself\u001b[39m\u001b[38;5;241m.\u001b[39menv\u001b[38;5;241m.\u001b[39mreset(\u001b[38;5;241m*\u001b[39m\u001b[38;5;241m*\u001b[39mkwargs)\n",
      "File \u001b[0;32m~/miniconda3/envs/my-env/lib/python3.11/site-packages/gymnasium/wrappers/order_enforcing.py:61\u001b[0m, in \u001b[0;36mOrderEnforcing.reset\u001b[0;34m(self, **kwargs)\u001b[0m\n\u001b[1;32m     59\u001b[0m \u001b[38;5;250m\u001b[39m\u001b[38;5;124;03m\"\"\"Resets the environment with `kwargs`.\"\"\"\u001b[39;00m\n\u001b[1;32m     60\u001b[0m \u001b[38;5;28mself\u001b[39m\u001b[38;5;241m.\u001b[39m_has_reset \u001b[38;5;241m=\u001b[39m \u001b[38;5;28;01mTrue\u001b[39;00m\n\u001b[0;32m---> 61\u001b[0m \u001b[38;5;28;01mreturn\u001b[39;00m \u001b[38;5;28mself\u001b[39m\u001b[38;5;241m.\u001b[39menv\u001b[38;5;241m.\u001b[39mreset(\u001b[38;5;241m*\u001b[39m\u001b[38;5;241m*\u001b[39mkwargs)\n",
      "File \u001b[0;32m~/miniconda3/envs/my-env/lib/python3.11/site-packages/gymnasium/wrappers/env_checker.py:55\u001b[0m, in \u001b[0;36mPassiveEnvChecker.reset\u001b[0;34m(self, **kwargs)\u001b[0m\n\u001b[1;32m     53\u001b[0m \u001b[38;5;28;01mif\u001b[39;00m \u001b[38;5;28mself\u001b[39m\u001b[38;5;241m.\u001b[39mchecked_reset \u001b[38;5;129;01mis\u001b[39;00m \u001b[38;5;28;01mFalse\u001b[39;00m:\n\u001b[1;32m     54\u001b[0m     \u001b[38;5;28mself\u001b[39m\u001b[38;5;241m.\u001b[39mchecked_reset \u001b[38;5;241m=\u001b[39m \u001b[38;5;28;01mTrue\u001b[39;00m\n\u001b[0;32m---> 55\u001b[0m     \u001b[38;5;28;01mreturn\u001b[39;00m env_reset_passive_checker(\u001b[38;5;28mself\u001b[39m\u001b[38;5;241m.\u001b[39menv, \u001b[38;5;241m*\u001b[39m\u001b[38;5;241m*\u001b[39mkwargs)\n\u001b[1;32m     56\u001b[0m \u001b[38;5;28;01melse\u001b[39;00m:\n\u001b[1;32m     57\u001b[0m     \u001b[38;5;28;01mreturn\u001b[39;00m \u001b[38;5;28mself\u001b[39m\u001b[38;5;241m.\u001b[39menv\u001b[38;5;241m.\u001b[39mreset(\u001b[38;5;241m*\u001b[39m\u001b[38;5;241m*\u001b[39mkwargs)\n",
      "File \u001b[0;32m~/miniconda3/envs/my-env/lib/python3.11/site-packages/gymnasium/utils/passive_env_checker.py:215\u001b[0m, in \u001b[0;36menv_reset_passive_checker\u001b[0;34m(env, **kwargs)\u001b[0m\n\u001b[1;32m    210\u001b[0m     logger\u001b[38;5;241m.\u001b[39mdeprecation(\n\u001b[1;32m    211\u001b[0m         \u001b[38;5;124m\"\u001b[39m\u001b[38;5;124mCurrent gymnasium version requires that `Env.reset` can be passed `options` to allow the environment initialisation to be passed additional information.\u001b[39m\u001b[38;5;124m\"\u001b[39m\n\u001b[1;32m    212\u001b[0m     )\n\u001b[1;32m    214\u001b[0m \u001b[38;5;66;03m# Checks the result of env.reset with kwargs\u001b[39;00m\n\u001b[0;32m--> 215\u001b[0m result \u001b[38;5;241m=\u001b[39m env\u001b[38;5;241m.\u001b[39mreset(\u001b[38;5;241m*\u001b[39m\u001b[38;5;241m*\u001b[39mkwargs)\n\u001b[1;32m    217\u001b[0m \u001b[38;5;28;01mif\u001b[39;00m \u001b[38;5;129;01mnot\u001b[39;00m \u001b[38;5;28misinstance\u001b[39m(result, \u001b[38;5;28mtuple\u001b[39m):\n\u001b[1;32m    218\u001b[0m     logger\u001b[38;5;241m.\u001b[39mwarn(\n\u001b[1;32m    219\u001b[0m         \u001b[38;5;124mf\u001b[39m\u001b[38;5;124m\"\u001b[39m\u001b[38;5;124mThe result returned by `env.reset()` was not a tuple of the form `(obs, info)`, where `obs` is a observation and `info` is a dictionary containing additional information. Actual type: `\u001b[39m\u001b[38;5;132;01m{\u001b[39;00m\u001b[38;5;28mtype\u001b[39m(result)\u001b[38;5;132;01m}\u001b[39;00m\u001b[38;5;124m`\u001b[39m\u001b[38;5;124m\"\u001b[39m\n\u001b[1;32m    220\u001b[0m     )\n",
      "File \u001b[0;32m~/miniconda3/envs/my-env/lib/python3.11/site-packages/gymnasium/envs/classic_control/cartpole.py:209\u001b[0m, in \u001b[0;36mCartPoleEnv.reset\u001b[0;34m(self, seed, options)\u001b[0m\n\u001b[1;32m    206\u001b[0m \u001b[38;5;28mself\u001b[39m\u001b[38;5;241m.\u001b[39msteps_beyond_terminated \u001b[38;5;241m=\u001b[39m \u001b[38;5;28;01mNone\u001b[39;00m\n\u001b[1;32m    208\u001b[0m \u001b[38;5;28;01mif\u001b[39;00m \u001b[38;5;28mself\u001b[39m\u001b[38;5;241m.\u001b[39mrender_mode \u001b[38;5;241m==\u001b[39m \u001b[38;5;124m\"\u001b[39m\u001b[38;5;124mhuman\u001b[39m\u001b[38;5;124m\"\u001b[39m:\n\u001b[0;32m--> 209\u001b[0m     \u001b[38;5;28mself\u001b[39m\u001b[38;5;241m.\u001b[39mrender()\n\u001b[1;32m    210\u001b[0m \u001b[38;5;28;01mreturn\u001b[39;00m np\u001b[38;5;241m.\u001b[39marray(\u001b[38;5;28mself\u001b[39m\u001b[38;5;241m.\u001b[39mstate, dtype\u001b[38;5;241m=\u001b[39mnp\u001b[38;5;241m.\u001b[39mfloat32), {}\n",
      "File \u001b[0;32m~/miniconda3/envs/my-env/lib/python3.11/site-packages/gymnasium/envs/classic_control/cartpole.py:226\u001b[0m, in \u001b[0;36mCartPoleEnv.render\u001b[0;34m(self)\u001b[0m\n\u001b[1;32m    224\u001b[0m     \u001b[38;5;28;01mfrom\u001b[39;00m \u001b[38;5;21;01mpygame\u001b[39;00m \u001b[38;5;28;01mimport\u001b[39;00m gfxdraw\n\u001b[1;32m    225\u001b[0m \u001b[38;5;28;01mexcept\u001b[39;00m \u001b[38;5;167;01mImportError\u001b[39;00m \u001b[38;5;28;01mas\u001b[39;00m e:\n\u001b[0;32m--> 226\u001b[0m     \u001b[38;5;28;01mraise\u001b[39;00m DependencyNotInstalled(\n\u001b[1;32m    227\u001b[0m         \u001b[38;5;124m\"\u001b[39m\u001b[38;5;124mpygame is not installed, run `pip install gymnasium[classic-control]`\u001b[39m\u001b[38;5;124m\"\u001b[39m\n\u001b[1;32m    228\u001b[0m     ) \u001b[38;5;28;01mfrom\u001b[39;00m \u001b[38;5;21;01me\u001b[39;00m\n\u001b[1;32m    230\u001b[0m \u001b[38;5;28;01mif\u001b[39;00m \u001b[38;5;28mself\u001b[39m\u001b[38;5;241m.\u001b[39mscreen \u001b[38;5;129;01mis\u001b[39;00m \u001b[38;5;28;01mNone\u001b[39;00m:\n\u001b[1;32m    231\u001b[0m     pygame\u001b[38;5;241m.\u001b[39minit()\n",
      "\u001b[0;31mDependencyNotInstalled\u001b[0m: pygame is not installed, run `pip install gymnasium[classic-control]`"
     ]
    }
   ],
   "source": [
    "import gymnasium as gym\n",
    "env = gym.make(\"CartPole-v1\", render_mode = \"human\")\n",
    "env.reset()\n",
    "for _ in range(200):\n",
    "    env.render()\n",
    "    env.step(env.action_space.sample())\n",
    "env.close()"
   ]
  },
  {
   "cell_type": "code",
   "execution_count": null,
   "id": "148d7139-563f-4dd5-afb9-c6124d543354",
   "metadata": {},
   "outputs": [],
   "source": []
  },
  {
   "cell_type": "code",
   "execution_count": null,
   "id": "e0bb2bb4-b961-40dc-af19-2ca429d687fc",
   "metadata": {},
   "outputs": [],
   "source": []
  },
  {
   "cell_type": "markdown",
   "id": "5af99f7a",
   "metadata": {},
   "source": [
    "### Let’s develop a Q-learning and SARSA model to solve this problem"
   ]
  },
  {
   "cell_type": "code",
   "execution_count": null,
   "id": "4c40c3d3",
   "metadata": {
    "tags": []
   },
   "outputs": [],
   "source": [
    "import pygame\n",
    "import gymnasium as gym\n",
    "import numpy as np\n",
    "import math\n",
    "import matplotlib.pyplot as plt\n",
    "%matplotlib inline"
   ]
  },
  {
   "cell_type": "markdown",
   "id": "b4978e50",
   "metadata": {},
   "source": [
    "### Prepare OpenAI Gym Environment"
   ]
  },
  {
   "cell_type": "code",
   "execution_count": null,
   "id": "5a636d7e",
   "metadata": {
    "tags": []
   },
   "outputs": [],
   "source": [
    "def prepare_env():\n",
    "\n",
    "    return env"
   ]
  },
  {
   "cell_type": "code",
   "execution_count": null,
   "id": "7596b50c",
   "metadata": {
    "tags": []
   },
   "outputs": [],
   "source": [
    "prepare_env()"
   ]
  },
  {
   "cell_type": "markdown",
   "id": "d047574a",
   "metadata": {},
   "source": [
    "### Prepare Reinforcement Learning Model Hyper-parameters"
   ]
  },
  {
   "cell_type": "code",
   "execution_count": null,
   "id": "7764348e",
   "metadata": {
    "tags": []
   },
   "outputs": [],
   "source": [
    "#Hyperparamters\n"
   ]
  },
  {
   "cell_type": "code",
   "execution_count": null,
   "id": "fcc2ce31",
   "metadata": {
    "tags": []
   },
   "outputs": [],
   "source": [
    "def discretised_state(state, theta_minmax, theta_dot_minmax, theta_state_size, theta_dot_state_size):\n",
    "\n",
    "    \n",
    "    return tuple(discrete_state.astype(np.int32))"
   ]
  },
  {
   "cell_type": "markdown",
   "id": "5b93146c",
   "metadata": {},
   "source": [
    "### Q-Learning"
   ]
  },
  {
   "cell_type": "code",
   "execution_count": null,
   "id": "98ff7fbe",
   "metadata": {
    "tags": []
   },
   "outputs": [],
   "source": [
    "def train_cart_pole_qlearning(EPISODES, DISCOUNT, EPISODE_DISPLAY, LEARNING_RATE, EPSILON):\n",
    "    \n",
    "    #Prepare OpenGym CartPole Environment\n",
    "\n",
    "    #Q-Table of size theta_state_size * theta_dot_state_size * env.action_space.n\n",
    "\n",
    "    #For stats\n",
    "    \n",
    "    for episode in range(EPISODES):\n",
    "        \n",
    "        if episode % EPISODE_DISPLAY == 0:\n",
    "           \n",
    "        else:\n",
    "            \n",
    "\n",
    "        while not done:\n",
    "            if np.random.random() > EPSILON:\n",
    "                \n",
    "            else:\n",
    "                \n",
    "\n",
    "\n",
    "            if render_state:\n",
    "                \n",
    "\n",
    "            if not done:\n",
    "                \n",
    "            i += 1\n",
    "            \n",
    "\n",
    "        \n",
    "\n",
    "        if not episode % EPISODE_DISPLAY:\n",
    "            \n",
    "            print(f\"Episode:{episode} avg:{avg_reward} min:{min(ep_rewards[-EPISODE_DISPLAY:])} max:{max(ep_rewards[-EPISODE_DISPLAY:])}\")\n",
    "\n",
    "    env.close()\n",
    "    \n",
    "    #Plot Model evolution performance\n",
    "    plt.plot(ep_rewards_table['ep'], ep_rewards_table['avg'], label = \"avg\")\n",
    "    plt.plot(ep_rewards_table['ep'], ep_rewards_table['min'], label = \"min\")\n",
    "    plt.plot(ep_rewards_table['ep'], ep_rewards_table['max'], label = \"max\")\n",
    "    plt.legend(loc = 4) #bottom right\n",
    "    plt.title('CartPole Q-Learning')\n",
    "    plt.ylabel('Average reward/Episode')\n",
    "    plt.xlabel('Episodes')\n",
    "    plt.show()\n",
    "    \n",
    "    return ep_rewards_table"
   ]
  },
  {
   "cell_type": "markdown",
   "id": "17e7a9f8",
   "metadata": {},
   "source": [
    "### SARSA"
   ]
  },
  {
   "cell_type": "code",
   "execution_count": null,
   "id": "eb7ddfcb",
   "metadata": {
    "tags": []
   },
   "outputs": [],
   "source": [
    "def train_cart_pole_sarsa(EPISODES, DISCOUNT, EPISODE_DISPLAY, LEARNING_RATE, EPSILON):\n",
    "    #Prepare OpenGym CartPole Environment\n",
    "    \n",
    "\n",
    "    #Q-Table of size theta_state_size * theta_dot_state_size * env.action_space.n\n",
    "    \n",
    "\n",
    "    #For stats\n",
    "    \n",
    "    \n",
    "    for episode in range(EPISODES):\n",
    "        \n",
    "\n",
    "        if episode % EPISODE_DISPLAY == 0:\n",
    "            \n",
    "        else:\n",
    "           \n",
    "        if np.random.random() > EPSILON:\n",
    "            \n",
    "        else:\n",
    "           \n",
    "\n",
    "        while not done:\n",
    "            \n",
    "\n",
    "            if np.random.random() > EPSILON:\n",
    "               \n",
    "            else:\n",
    "               \n",
    "\n",
    "            if render_state:\n",
    "               \n",
    "            if not done:\n",
    "                \n",
    "            curr_discrete_state = new_discrete_state\n",
    "            \n",
    "        ep_rewards.append(episode_reward)\n",
    "\n",
    "        if not episode % EPISODE_DISPLAY:\n",
    "            \n",
    "            print(f\"Episode:{episode} avg:{avg_reward} min:{min(ep_rewards[-EPISODE_DISPLAY:])} max:{max(ep_rewards[-EPISODE_DISPLAY:])}\")\n",
    "\n",
    "    env.close()\n",
    "\n",
    "    #Plot Model evolution performance\n",
    "    plt.plot(ep_rewards_table['ep'], ep_rewards_table['avg'], label = \"avg\")\n",
    "    plt.plot(ep_rewards_table['ep'], ep_rewards_table['min'], label = \"min\")\n",
    "    plt.plot(ep_rewards_table['ep'], ep_rewards_table['max'], label = \"max\")\n",
    "    plt.legend(loc = 4) #bottom right\n",
    "    plt.title('CartPole SARSA')\n",
    "    plt.ylabel('Average reward/Episode')\n",
    "    plt.xlabel('Episodes')\n",
    "    plt.show()\n",
    "    \n",
    "    return ep_rewards_table"
   ]
  },
  {
   "cell_type": "markdown",
   "id": "7fb431f0",
   "metadata": {},
   "source": [
    "### Results: Q-Learning vs SARSA"
   ]
  },
  {
   "cell_type": "code",
   "execution_count": null,
   "id": "b166ba45",
   "metadata": {
    "tags": []
   },
   "outputs": [],
   "source": [
    "#Q-learning\n",
    "ep_rewards_table_qlearning = train_cart_pole_qlearning"
   ]
  },
  {
   "cell_type": "code",
   "execution_count": null,
   "id": "51b60bd1",
   "metadata": {
    "tags": []
   },
   "outputs": [],
   "source": [
    "#SARSA\n",
    "ep_rewards_table_sarsa = train_cart_pole_sarsa"
   ]
  },
  {
   "cell_type": "code",
   "execution_count": null,
   "id": "a8341628",
   "metadata": {
    "tags": []
   },
   "outputs": [],
   "source": [
    "#Comparison\n",
    "plt.figure(figsize = (20, 10))\n",
    "plt.plot(ep_rewards_table_qlearning['ep'], ep_rewards_table_qlearning['avg'], label = \"qlearning_avg\")\n",
    "plt.plot(ep_rewards_table_sarsa['ep'], ep_rewards_table_sarsa['avg'], label = \"sarsa_avg\")\n",
    "plt.plot(ep_rewards_table_qlearning['ep'], ep_rewards_table_qlearning['min'], label = \"qlearning_min\")\n",
    "plt.plot(ep_rewards_table_sarsa['ep'], ep_rewards_table_sarsa['min'], label = \"sarsa_min\")\n",
    "plt.plot(ep_rewards_table_qlearning['ep'], ep_rewards_table_qlearning['max'], label = \"qlearning_max\")\n",
    "plt.plot(ep_rewards_table_sarsa['ep'], ep_rewards_table_sarsa['max'], label = \"sarsa_max\")\n"
   ]
  },
  {
   "cell_type": "code",
   "execution_count": null,
   "id": "e0b9062a",
   "metadata": {},
   "outputs": [],
   "source": []
  }
 ],
 "metadata": {
  "kernelspec": {
   "display_name": "Python 3 (ipykernel)",
   "language": "python",
   "name": "python3"
  },
  "language_info": {
   "codemirror_mode": {
    "name": "ipython",
    "version": 3
   },
   "file_extension": ".py",
   "mimetype": "text/x-python",
   "name": "python",
   "nbconvert_exporter": "python",
   "pygments_lexer": "ipython3",
   "version": "3.11.5"
  },
  "vscode": {
   "interpreter": {
    "hash": "8af2efdd1395cfda319ea8b192331da605ebd818a1332a77f240d477877bcd3f"
   }
  }
 },
 "nbformat": 4,
 "nbformat_minor": 5
}
